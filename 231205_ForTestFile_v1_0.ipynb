{
  "nbformat": 4,
  "nbformat_minor": 0,
  "metadata": {
    "colab": {
      "provenance": []
    },
    "kernelspec": {
      "name": "python3",
      "display_name": "Python 3"
    },
    "language_info": {
      "name": "python"
    }
  },
  "cells": [
    {
      "cell_type": "markdown",
      "source": [
        "# 企業様向けテスト用ファイル v1.0\n",
        "\n",
        "## 免責事項\n",
        "> これは㈱Tech0によって提供される企業向けプログラムの事前テスト用ファイルであり、その目的に特化して作成されています。当社では、このファイルを使用した際に発生する可能性のあるいかなる不具合についても責任を負いかねます。<br>ファイルの品質と機能性を確保するために万全を尽くしておりますが、万一の不具合発生時にはご理解いただけますようお願い申し上げます。\n",
        "\n",
        "## 操作方法\n",
        "\n",
        "下記に用意されているコードに対して、<br>\n",
        "> windows: コードブロックを選択した状態でCtrl + Enter<br>\n",
        ">Mac: コードブロックを選択した状態でCommand + Enter\n",
        "\n",
        "もしくは▶マークを選択して、コードを起動してください。\n",
        "\n",
        "## 確認\n",
        "\n",
        "コードブロック横が✔になれば動作は完了しています。<br>\n",
        "期待されているアウトプットと同様な表示がなされているか確認してください。<br>\n",
        "Warningが表示されていたとしても、先に続くコードが活用できていれば問題はございません。"
      ],
      "metadata": {
        "id": "8e8NE5eQ4PRP"
      }
    },
    {
      "cell_type": "code",
      "execution_count": 17,
      "metadata": {
        "colab": {
          "base_uri": "https://localhost:8080/"
        },
        "id": "ORdg0h8wqEzw",
        "outputId": "8d45ee86-bb04-4f6b-d627-e32265a38a07"
      },
      "outputs": [
        {
          "output_type": "stream",
          "name": "stdout",
          "text": [
            "Requirement already satisfied: moviepy in /usr/local/lib/python3.10/dist-packages (1.0.3)\n",
            "Requirement already satisfied: decorator<5.0,>=4.0.2 in /usr/local/lib/python3.10/dist-packages (from moviepy) (4.4.2)\n",
            "Requirement already satisfied: tqdm<5.0,>=4.11.2 in /usr/local/lib/python3.10/dist-packages (from moviepy) (4.66.1)\n",
            "Requirement already satisfied: requests<3.0,>=2.8.1 in /usr/local/lib/python3.10/dist-packages (from moviepy) (2.31.0)\n",
            "Requirement already satisfied: proglog<=1.0.0 in /usr/local/lib/python3.10/dist-packages (from moviepy) (0.1.10)\n",
            "Requirement already satisfied: numpy>=1.17.3 in /usr/local/lib/python3.10/dist-packages (from moviepy) (1.23.5)\n",
            "Requirement already satisfied: imageio<3.0,>=2.5 in /usr/local/lib/python3.10/dist-packages (from moviepy) (2.31.6)\n",
            "Requirement already satisfied: imageio-ffmpeg>=0.2.0 in /usr/local/lib/python3.10/dist-packages (from moviepy) (0.4.9)\n",
            "Requirement already satisfied: pillow<10.1.0,>=8.3.2 in /usr/local/lib/python3.10/dist-packages (from imageio<3.0,>=2.5->moviepy) (9.4.0)\n",
            "Requirement already satisfied: setuptools in /usr/local/lib/python3.10/dist-packages (from imageio-ffmpeg>=0.2.0->moviepy) (67.7.2)\n",
            "Requirement already satisfied: charset-normalizer<4,>=2 in /usr/local/lib/python3.10/dist-packages (from requests<3.0,>=2.8.1->moviepy) (3.3.2)\n",
            "Requirement already satisfied: idna<4,>=2.5 in /usr/local/lib/python3.10/dist-packages (from requests<3.0,>=2.8.1->moviepy) (3.6)\n",
            "Requirement already satisfied: urllib3<3,>=1.21.1 in /usr/local/lib/python3.10/dist-packages (from requests<3.0,>=2.8.1->moviepy) (2.0.7)\n",
            "Requirement already satisfied: certifi>=2017.4.17 in /usr/local/lib/python3.10/dist-packages (from requests<3.0,>=2.8.1->moviepy) (2023.11.17)\n"
          ]
        }
      ],
      "source": [
        "!pip install moviepy"
      ]
    },
    {
      "cell_type": "markdown",
      "source": [
        "期待されるアウトプット<br>\n",
        "「Requirement already satisfied:～」が画面に表示され、Errorが発生していないこと。"
      ],
      "metadata": {
        "id": "472_q78yUERZ"
      }
    },
    {
      "cell_type": "code",
      "source": [
        "from moviepy.editor import AudioFileClip"
      ],
      "metadata": {
        "id": "szeNEsyDqJqi"
      },
      "execution_count": 18,
      "outputs": []
    },
    {
      "cell_type": "markdown",
      "source": [
        "期待されるアウトプット<br>起動してもエラーが表示されないこと。"
      ],
      "metadata": {
        "id": "hAHVG-3tWY4Y"
      }
    },
    {
      "cell_type": "code",
      "source": [
        "#whisperのインストール\n",
        "!pip install git+https://github.com/openai/whisper"
      ],
      "metadata": {
        "id": "hdE6PeLyrk_z",
        "colab": {
          "base_uri": "https://localhost:8080/"
        },
        "outputId": "6c2f3a66-d2c6-471e-cc0a-c8dc63a69a36"
      },
      "execution_count": 19,
      "outputs": [
        {
          "output_type": "stream",
          "name": "stdout",
          "text": [
            "Collecting git+https://github.com/openai/whisper\n",
            "  Cloning https://github.com/openai/whisper to /tmp/pip-req-build-jblv6jl1\n",
            "  Running command git clone --filter=blob:none --quiet https://github.com/openai/whisper /tmp/pip-req-build-jblv6jl1\n",
            "  Resolved https://github.com/openai/whisper to commit e58f28804528831904c3b6f2c0e473f346223433\n",
            "  Installing build dependencies ... \u001b[?25l\u001b[?25hdone\n",
            "  Getting requirements to build wheel ... \u001b[?25l\u001b[?25hdone\n",
            "  Preparing metadata (pyproject.toml) ... \u001b[?25l\u001b[?25hdone\n",
            "Requirement already satisfied: triton<3,>=2.0.0 in /usr/local/lib/python3.10/dist-packages (from openai-whisper==20231117) (2.1.0)\n",
            "Requirement already satisfied: numba in /usr/local/lib/python3.10/dist-packages (from openai-whisper==20231117) (0.58.1)\n",
            "Requirement already satisfied: numpy in /usr/local/lib/python3.10/dist-packages (from openai-whisper==20231117) (1.23.5)\n",
            "Requirement already satisfied: torch in /usr/local/lib/python3.10/dist-packages (from openai-whisper==20231117) (2.1.0+cu118)\n",
            "Requirement already satisfied: tqdm in /usr/local/lib/python3.10/dist-packages (from openai-whisper==20231117) (4.66.1)\n",
            "Requirement already satisfied: more-itertools in /usr/local/lib/python3.10/dist-packages (from openai-whisper==20231117) (10.1.0)\n",
            "Requirement already satisfied: tiktoken in /usr/local/lib/python3.10/dist-packages (from openai-whisper==20231117) (0.4.0)\n",
            "Requirement already satisfied: filelock in /usr/local/lib/python3.10/dist-packages (from triton<3,>=2.0.0->openai-whisper==20231117) (3.13.1)\n",
            "Requirement already satisfied: llvmlite<0.42,>=0.41.0dev0 in /usr/local/lib/python3.10/dist-packages (from numba->openai-whisper==20231117) (0.41.1)\n",
            "Requirement already satisfied: regex>=2022.1.18 in /usr/local/lib/python3.10/dist-packages (from tiktoken->openai-whisper==20231117) (2023.6.3)\n",
            "Requirement already satisfied: requests>=2.26.0 in /usr/local/lib/python3.10/dist-packages (from tiktoken->openai-whisper==20231117) (2.31.0)\n",
            "Requirement already satisfied: typing-extensions in /usr/local/lib/python3.10/dist-packages (from torch->openai-whisper==20231117) (4.5.0)\n",
            "Requirement already satisfied: sympy in /usr/local/lib/python3.10/dist-packages (from torch->openai-whisper==20231117) (1.12)\n",
            "Requirement already satisfied: networkx in /usr/local/lib/python3.10/dist-packages (from torch->openai-whisper==20231117) (3.2.1)\n",
            "Requirement already satisfied: jinja2 in /usr/local/lib/python3.10/dist-packages (from torch->openai-whisper==20231117) (3.1.2)\n",
            "Requirement already satisfied: fsspec in /usr/local/lib/python3.10/dist-packages (from torch->openai-whisper==20231117) (2023.6.0)\n",
            "Requirement already satisfied: charset-normalizer<4,>=2 in /usr/local/lib/python3.10/dist-packages (from requests>=2.26.0->tiktoken->openai-whisper==20231117) (3.3.2)\n",
            "Requirement already satisfied: idna<4,>=2.5 in /usr/local/lib/python3.10/dist-packages (from requests>=2.26.0->tiktoken->openai-whisper==20231117) (3.6)\n",
            "Requirement already satisfied: urllib3<3,>=1.21.1 in /usr/local/lib/python3.10/dist-packages (from requests>=2.26.0->tiktoken->openai-whisper==20231117) (2.0.7)\n",
            "Requirement already satisfied: certifi>=2017.4.17 in /usr/local/lib/python3.10/dist-packages (from requests>=2.26.0->tiktoken->openai-whisper==20231117) (2023.11.17)\n",
            "Requirement already satisfied: MarkupSafe>=2.0 in /usr/local/lib/python3.10/dist-packages (from jinja2->torch->openai-whisper==20231117) (2.1.3)\n",
            "Requirement already satisfied: mpmath>=0.19 in /usr/local/lib/python3.10/dist-packages (from sympy->torch->openai-whisper==20231117) (1.3.0)\n"
          ]
        }
      ]
    },
    {
      "cell_type": "markdown",
      "source": [
        "期待されるアウトプット<br>\n",
        "Successfully built openai-whisper<br>\n",
        "Installing collected packages: tiktoken, openai-whisper<br>\n",
        "<font color =”#FF0000”> ERROR: pip's dependency resolver does not currently take into account all the packages that are installed. This behaviour is the source of the following dependency conflicts.</font><br>\n",
        "llmx 0.0.15a0 requires cohere, which is not installed.<br>\n",
        "Successfully installed openai-whisper-20231117 tiktoken-0.5.2\n",
        "<br><br>\n",
        "上記のようなエラーが表示される場合もありますが、これは使用しないライブラリなので問題ありません。<br>\n",
        "Successfully installed～と表示されればOKです。<br>\n",
        "※表示されるversionは異なる場合があります。"
      ],
      "metadata": {
        "id": "GSVRVZIMWvBk"
      }
    },
    {
      "cell_type": "code",
      "source": [
        "import whisper\n",
        "whisper.available_models()"
      ],
      "metadata": {
        "id": "NrlQgNk7sZMf",
        "colab": {
          "base_uri": "https://localhost:8080/"
        },
        "outputId": "d96b7c30-525b-4a05-ef1e-3a2bb52bb058"
      },
      "execution_count": 21,
      "outputs": [
        {
          "output_type": "execute_result",
          "data": {
            "text/plain": [
              "['tiny.en',\n",
              " 'tiny',\n",
              " 'base.en',\n",
              " 'base',\n",
              " 'small.en',\n",
              " 'small',\n",
              " 'medium.en',\n",
              " 'medium',\n",
              " 'large-v1',\n",
              " 'large-v2',\n",
              " 'large-v3',\n",
              " 'large']"
            ]
          },
          "metadata": {},
          "execution_count": 21
        }
      ]
    },
    {
      "cell_type": "markdown",
      "source": [
        "期待されるアウトプット<br>\n",
        "['tiny.en', ...]というようにいくつかモデルが画面上に表示されていること。"
      ],
      "metadata": {
        "id": "R-BWy3Mp-CXu"
      }
    },
    {
      "cell_type": "code",
      "source": [
        "# 書き込み\n",
        "testtext=\"これはテスト用のファイルです。これ以外に文章は記述されていません。以上。\"\n",
        "with open('test.txt', 'w') as f:\n",
        "    f.write(testtext)\n",
        "    f.close()"
      ],
      "metadata": {
        "id": "V7eqEbTy2oNF"
      },
      "execution_count": 22,
      "outputs": []
    },
    {
      "cell_type": "markdown",
      "source": [
        "期待されるアウトプット<br>\n",
        "画面左側、フォルダのアイコンを押し、test.txtが生成されていること。\n"
      ],
      "metadata": {
        "id": "MU1b1WZFYkVX"
      }
    },
    {
      "cell_type": "code",
      "execution_count": 23,
      "metadata": {
        "id": "5f18f386",
        "colab": {
          "base_uri": "https://localhost:8080/"
        },
        "outputId": "51db4a27-2691-4da9-85fc-84caa08669ae"
      },
      "outputs": [
        {
          "output_type": "stream",
          "name": "stdout",
          "text": [
            "Requirement already satisfied: tiktoken in /usr/local/lib/python3.10/dist-packages (0.4.0)\n",
            "Requirement already satisfied: regex>=2022.1.18 in /usr/local/lib/python3.10/dist-packages (from tiktoken) (2023.6.3)\n",
            "Requirement already satisfied: requests>=2.26.0 in /usr/local/lib/python3.10/dist-packages (from tiktoken) (2.31.0)\n",
            "Requirement already satisfied: charset-normalizer<4,>=2 in /usr/local/lib/python3.10/dist-packages (from requests>=2.26.0->tiktoken) (3.3.2)\n",
            "Requirement already satisfied: idna<4,>=2.5 in /usr/local/lib/python3.10/dist-packages (from requests>=2.26.0->tiktoken) (3.6)\n",
            "Requirement already satisfied: urllib3<3,>=1.21.1 in /usr/local/lib/python3.10/dist-packages (from requests>=2.26.0->tiktoken) (2.0.7)\n",
            "Requirement already satisfied: certifi>=2017.4.17 in /usr/local/lib/python3.10/dist-packages (from requests>=2.26.0->tiktoken) (2023.11.17)\n",
            "Requirement already satisfied: cohere in /usr/local/lib/python3.10/dist-packages (4.37)\n",
            "Requirement already satisfied: aiohttp<4.0,>=3.0 in /usr/local/lib/python3.10/dist-packages (from cohere) (3.9.1)\n",
            "Requirement already satisfied: backoff<3.0,>=2.0 in /usr/local/lib/python3.10/dist-packages (from cohere) (2.2.1)\n",
            "Requirement already satisfied: fastavro<2.0,>=1.8 in /usr/local/lib/python3.10/dist-packages (from cohere) (1.9.0)\n",
            "Requirement already satisfied: importlib_metadata<7.0,>=6.0 in /usr/local/lib/python3.10/dist-packages (from cohere) (6.8.0)\n",
            "Requirement already satisfied: requests<3.0.0,>=2.25.0 in /usr/local/lib/python3.10/dist-packages (from cohere) (2.31.0)\n",
            "Requirement already satisfied: urllib3<3,>=1.26 in /usr/local/lib/python3.10/dist-packages (from cohere) (2.0.7)\n",
            "Requirement already satisfied: attrs>=17.3.0 in /usr/local/lib/python3.10/dist-packages (from aiohttp<4.0,>=3.0->cohere) (23.1.0)\n",
            "Requirement already satisfied: multidict<7.0,>=4.5 in /usr/local/lib/python3.10/dist-packages (from aiohttp<4.0,>=3.0->cohere) (6.0.4)\n",
            "Requirement already satisfied: yarl<2.0,>=1.0 in /usr/local/lib/python3.10/dist-packages (from aiohttp<4.0,>=3.0->cohere) (1.9.3)\n",
            "Requirement already satisfied: frozenlist>=1.1.1 in /usr/local/lib/python3.10/dist-packages (from aiohttp<4.0,>=3.0->cohere) (1.4.0)\n",
            "Requirement already satisfied: aiosignal>=1.1.2 in /usr/local/lib/python3.10/dist-packages (from aiohttp<4.0,>=3.0->cohere) (1.3.1)\n",
            "Requirement already satisfied: async-timeout<5.0,>=4.0 in /usr/local/lib/python3.10/dist-packages (from aiohttp<4.0,>=3.0->cohere) (4.0.3)\n",
            "Requirement already satisfied: zipp>=0.5 in /usr/local/lib/python3.10/dist-packages (from importlib_metadata<7.0,>=6.0->cohere) (3.17.0)\n",
            "Requirement already satisfied: charset-normalizer<4,>=2 in /usr/local/lib/python3.10/dist-packages (from requests<3.0.0,>=2.25.0->cohere) (3.3.2)\n",
            "Requirement already satisfied: idna<4,>=2.5 in /usr/local/lib/python3.10/dist-packages (from requests<3.0.0,>=2.25.0->cohere) (3.6)\n",
            "Requirement already satisfied: certifi>=2017.4.17 in /usr/local/lib/python3.10/dist-packages (from requests<3.0.0,>=2.25.0->cohere) (2023.11.17)\n"
          ]
        }
      ],
      "source": [
        "!pip install tiktoken\n",
        "!pip install cohere"
      ]
    },
    {
      "cell_type": "markdown",
      "source": [
        "期待されるアウトプット<br>\n",
        "エラーが発生せず、Successfully～と表示されていること。"
      ],
      "metadata": {
        "id": "uuO3y8kQaduL"
      }
    },
    {
      "cell_type": "code",
      "execution_count": 1,
      "metadata": {
        "id": "34f8cc63",
        "colab": {
          "base_uri": "https://localhost:8080/"
        },
        "outputId": "e3858051-d395-498f-b5fa-31cf468aa9e5"
      },
      "outputs": [
        {
          "output_type": "stream",
          "name": "stdout",
          "text": [
            "Requirement already satisfied: openai==0.28 in /usr/local/lib/python3.10/dist-packages (0.28.0)\n",
            "Requirement already satisfied: requests>=2.20 in /usr/local/lib/python3.10/dist-packages (from openai==0.28) (2.31.0)\n",
            "Requirement already satisfied: tqdm in /usr/local/lib/python3.10/dist-packages (from openai==0.28) (4.66.1)\n",
            "Requirement already satisfied: aiohttp in /usr/local/lib/python3.10/dist-packages (from openai==0.28) (3.9.1)\n",
            "Requirement already satisfied: charset-normalizer<4,>=2 in /usr/local/lib/python3.10/dist-packages (from requests>=2.20->openai==0.28) (3.3.2)\n",
            "Requirement already satisfied: idna<4,>=2.5 in /usr/local/lib/python3.10/dist-packages (from requests>=2.20->openai==0.28) (3.6)\n",
            "Requirement already satisfied: urllib3<3,>=1.21.1 in /usr/local/lib/python3.10/dist-packages (from requests>=2.20->openai==0.28) (2.0.7)\n",
            "Requirement already satisfied: certifi>=2017.4.17 in /usr/local/lib/python3.10/dist-packages (from requests>=2.20->openai==0.28) (2023.11.17)\n",
            "Requirement already satisfied: attrs>=17.3.0 in /usr/local/lib/python3.10/dist-packages (from aiohttp->openai==0.28) (23.1.0)\n",
            "Requirement already satisfied: multidict<7.0,>=4.5 in /usr/local/lib/python3.10/dist-packages (from aiohttp->openai==0.28) (6.0.4)\n",
            "Requirement already satisfied: yarl<2.0,>=1.0 in /usr/local/lib/python3.10/dist-packages (from aiohttp->openai==0.28) (1.9.3)\n",
            "Requirement already satisfied: frozenlist>=1.1.1 in /usr/local/lib/python3.10/dist-packages (from aiohttp->openai==0.28) (1.4.0)\n",
            "Requirement already satisfied: aiosignal>=1.1.2 in /usr/local/lib/python3.10/dist-packages (from aiohttp->openai==0.28) (1.3.1)\n",
            "Requirement already satisfied: async-timeout<5.0,>=4.0 in /usr/local/lib/python3.10/dist-packages (from aiohttp->openai==0.28) (4.0.3)\n"
          ]
        }
      ],
      "source": [
        "!pip install openai==0.28\n",
        "import openai\n",
        "openai.api_type = \"azure\"\n",
        "openai.api_base = \"https://tech0-gpt-test.openai.azure.com/\"\n",
        "openai.api_key = \"9833898fe6de49a3a24084a50893af41\"\n",
        "openai.api_version = \"2023-05-15\""
      ]
    },
    {
      "cell_type": "markdown",
      "source": [
        "期待されるアウトプット<br>\n",
        "エラーが発生しないこと。"
      ],
      "metadata": {
        "id": "_mQ6yX3Ta5IY"
      }
    },
    {
      "cell_type": "code",
      "execution_count": 2,
      "metadata": {
        "id": "cc06cb2f",
        "colab": {
          "base_uri": "https://localhost:8080/"
        },
        "outputId": "5e372e7c-e567-48c8-d26c-ef378b678fef"
      },
      "outputs": [
        {
          "output_type": "stream",
          "name": "stdout",
          "text": [
            "日本の野球選手、大谷翔平は世界で注目される二刀流の選手です。\n"
          ]
        }
      ],
      "source": [
        "# chatGPTに質問する\n",
        "response = openai.ChatCompletion.create(\n",
        "    engine=\"gpt-35-turbo-16k\",\n",
        "    messages=[\n",
        "        {\"role\": \"user\", \"content\": \"大谷翔平について50文字以内で教えて\"},\n",
        "    ],\n",
        ")\n",
        "# 回答の表示\n",
        "print(response.choices[0][\"message\"][\"content\"].strip())"
      ]
    },
    {
      "cell_type": "markdown",
      "source": [
        "期待されるアウトプット<br>\n",
        "大谷翔平についての説明文が表示されていること。"
      ],
      "metadata": {
        "id": "7PByKawncPVG"
      }
    },
    {
      "cell_type": "markdown",
      "source": [
        "# お疲れ様でした。<br>\n",
        "もし期待されるアウトプットと異なるものが表示された場合や、不明点・疑問点等がございましたら、下記問い合わせ先にエラーコードも合わせてご連絡いただけますと幸いです。<br>\n",
        "<br>\n",
        "\n",
        "---\n",
        "\n",
        "## 株式会社Tech0<br>\n",
        "担当：時久、木添、斎藤<br>\n",
        "techzerocs@gmail.com<br>"
      ],
      "metadata": {
        "id": "UtqgvBLeckK_"
      }
    }
  ]
}